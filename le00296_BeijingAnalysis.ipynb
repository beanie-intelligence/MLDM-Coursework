{
 "nbformat": 4,
 "nbformat_minor": 0,
 "metadata": {
  "colab": {
   "name": "BeijingAnalysis.ipynb",
   "provenance": [],
   "collapsed_sections": [],
   "toc_visible": true
  },
  "kernelspec": {
   "name": "python3",
   "language": "python",
   "display_name": "Python 3"
  }
 },
 "cells": [
  {
   "cell_type": "code",
   "metadata": {
    "id": "A2BNmBYZRnpp",
    "colab_type": "code",
    "colab": {}
   },
   "source": [
    "import pandas as pd \n",
    "import numpy as np\n",
    "from IPython.display import display\n",
    "import glob\n",
    "from sklearn.neighbors import KNeighborsClassifier\n",
    "from sklearn.tree import DecisionTreeClassifier"
   ],
   "execution_count": 1,
   "outputs": []
  },
  {
   "cell_type": "markdown",
   "metadata": {
    "id": "vALuGT5Q9NuQ",
    "colab_type": "text"
   },
   "source": [
    "PM2.5: PM2.5 concentration (ug/m^3)\n",
    "\n",
    "PM10: PM10 concentration (ug/m^3)\n",
    "\n",
    "SO2: SO2 concentration (ug/m^3)\n",
    "\n",
    "NO2: NO2 concentration (ug/m^3)\n",
    "\n",
    "CO: CO concentration (ug/m^3)\n",
    "\n",
    "O3: O3 concentration (ug/m^3)\n",
    "\n",
    "TEMP: temperature (degree Celsius)\n",
    "\n",
    "PRES: pressure (hPa)\n",
    "\n",
    "DEWP: dew point temperature (degree Celsius)\n",
    "\n",
    "RAIN: precipitation (mm)\n",
    "\n",
    "wd: wind direction\n",
    "\n",
    "WSPM: wind speed (m/s)\n",
    "\n",
    "station: name of the air-quality monitoring site"
   ]
  },
  {
   "cell_type": "code",
   "metadata": {
    "id": "CbBVgxk9rtOU",
    "colab_type": "code",
    "colab": {}
   },
   "source": [
    "#getting the path for all the stored files \n",
    "path = \"PRSA_Data_Huairou_20130301-20170228.csv\"\n",
    "allFiles = glob.glob(path)\n",
    "\n",
    "#creating a dataframe and list to store temp dataframe\n",
    "df = pd.DataFrame()\n",
    "list_ = []\n",
    "\n",
    "#combining all the CSV files into one\n",
    "for file in allFiles:\n",
    "   tempDF = pd.read_csv(file,index_col=None, header=0)\n",
    "   list_.append(tempDF)\n",
    "\n",
    "df = pd.concat(list_)\n",
    "\n",
    "#cols = ['No', 'year', 'month', 'day', 'hour', 'PM2.5', 'PM10', 'SO2', 'NO2', 'CO', 'O3', 'TEMP', 'PRES', 'DEWP', \n",
    "#        'RAIN', 'wd', 'WSPM', 'station']\n",
    "#df.columns = df[cols]\n",
    "df = df.sort_values(['station', 'year'])\n",
    "  "
   ],
   "execution_count": 2,
   "outputs": []
  },
  {
   "cell_type": "code",
   "metadata": {
    "id": "45t8qoNCFMOo",
    "colab_type": "code",
    "outputId": "dcc7533b-2d63-4272-cc17-9978c7c16599",
    "colab": {
     "base_uri": "https://localhost:8080/",
     "height": 204
    }
   },
   "source": [
    "df.head()"
   ],
   "execution_count": 3,
   "outputs": [
    {
     "data": {
      "text/plain": "   No  year  month  day  hour  PM2.5  PM10  SO2  NO2     CO    O3  TEMP  \\\n0   1  2013      3    1     0    7.0   7.0  3.0  2.0  100.0  91.0  -2.3   \n1   2  2013      3    1     1    4.0   4.0  3.0  NaN  100.0  92.0  -2.7   \n2   3  2013      3    1     2    4.0   4.0  NaN  NaN  100.0  91.0  -3.2   \n3   4  2013      3    1     3    3.0   3.0  3.0  2.0    NaN   NaN  -3.3   \n4   5  2013      3    1     4    3.0   3.0  7.0  NaN  300.0  86.0  -4.1   \n\n     PRES  DEWP  RAIN   wd  WSPM  station  \n0  1020.3 -20.7   0.0  WNW   3.1  Huairou  \n1  1020.8 -20.5   0.0  NNW   1.5  Huairou  \n2  1020.6 -21.4   0.0   NW   1.8  Huairou  \n3  1021.3 -23.7   0.0  NNW   2.4  Huairou  \n4  1022.1 -22.7   0.0  NNW   2.2  Huairou  ",
      "text/html": "<div>\n<style scoped>\n    .dataframe tbody tr th:only-of-type {\n        vertical-align: middle;\n    }\n\n    .dataframe tbody tr th {\n        vertical-align: top;\n    }\n\n    .dataframe thead th {\n        text-align: right;\n    }\n</style>\n<table border=\"1\" class=\"dataframe\">\n  <thead>\n    <tr style=\"text-align: right;\">\n      <th></th>\n      <th>No</th>\n      <th>year</th>\n      <th>month</th>\n      <th>day</th>\n      <th>hour</th>\n      <th>PM2.5</th>\n      <th>PM10</th>\n      <th>SO2</th>\n      <th>NO2</th>\n      <th>CO</th>\n      <th>O3</th>\n      <th>TEMP</th>\n      <th>PRES</th>\n      <th>DEWP</th>\n      <th>RAIN</th>\n      <th>wd</th>\n      <th>WSPM</th>\n      <th>station</th>\n    </tr>\n  </thead>\n  <tbody>\n    <tr>\n      <th>0</th>\n      <td>1</td>\n      <td>2013</td>\n      <td>3</td>\n      <td>1</td>\n      <td>0</td>\n      <td>7.0</td>\n      <td>7.0</td>\n      <td>3.0</td>\n      <td>2.0</td>\n      <td>100.0</td>\n      <td>91.0</td>\n      <td>-2.3</td>\n      <td>1020.3</td>\n      <td>-20.7</td>\n      <td>0.0</td>\n      <td>WNW</td>\n      <td>3.1</td>\n      <td>Huairou</td>\n    </tr>\n    <tr>\n      <th>1</th>\n      <td>2</td>\n      <td>2013</td>\n      <td>3</td>\n      <td>1</td>\n      <td>1</td>\n      <td>4.0</td>\n      <td>4.0</td>\n      <td>3.0</td>\n      <td>NaN</td>\n      <td>100.0</td>\n      <td>92.0</td>\n      <td>-2.7</td>\n      <td>1020.8</td>\n      <td>-20.5</td>\n      <td>0.0</td>\n      <td>NNW</td>\n      <td>1.5</td>\n      <td>Huairou</td>\n    </tr>\n    <tr>\n      <th>2</th>\n      <td>3</td>\n      <td>2013</td>\n      <td>3</td>\n      <td>1</td>\n      <td>2</td>\n      <td>4.0</td>\n      <td>4.0</td>\n      <td>NaN</td>\n      <td>NaN</td>\n      <td>100.0</td>\n      <td>91.0</td>\n      <td>-3.2</td>\n      <td>1020.6</td>\n      <td>-21.4</td>\n      <td>0.0</td>\n      <td>NW</td>\n      <td>1.8</td>\n      <td>Huairou</td>\n    </tr>\n    <tr>\n      <th>3</th>\n      <td>4</td>\n      <td>2013</td>\n      <td>3</td>\n      <td>1</td>\n      <td>3</td>\n      <td>3.0</td>\n      <td>3.0</td>\n      <td>3.0</td>\n      <td>2.0</td>\n      <td>NaN</td>\n      <td>NaN</td>\n      <td>-3.3</td>\n      <td>1021.3</td>\n      <td>-23.7</td>\n      <td>0.0</td>\n      <td>NNW</td>\n      <td>2.4</td>\n      <td>Huairou</td>\n    </tr>\n    <tr>\n      <th>4</th>\n      <td>5</td>\n      <td>2013</td>\n      <td>3</td>\n      <td>1</td>\n      <td>4</td>\n      <td>3.0</td>\n      <td>3.0</td>\n      <td>7.0</td>\n      <td>NaN</td>\n      <td>300.0</td>\n      <td>86.0</td>\n      <td>-4.1</td>\n      <td>1022.1</td>\n      <td>-22.7</td>\n      <td>0.0</td>\n      <td>NNW</td>\n      <td>2.2</td>\n      <td>Huairou</td>\n    </tr>\n  </tbody>\n</table>\n</div>"
     },
     "execution_count": 3,
     "metadata": {},
     "output_type": "execute_result"
    }
   ]
  },
  {
   "cell_type": "code",
   "metadata": {
    "id": "TG40Fi5Or5Sd",
    "colab_type": "code",
    "outputId": "fe8b4b46-1b7a-4600-ca79-49b87cf94d9e",
    "colab": {
     "base_uri": "https://localhost:8080/",
     "height": 317
    }
   },
   "source": [
    "# let's view at the statistical values for the dataset \n",
    "df.describe()"
   ],
   "execution_count": 4,
   "outputs": [
    {
     "data": {
      "text/plain": "                 No          year         month           day          hour  \\\ncount  35064.000000  35064.000000  35064.000000  35064.000000  35064.000000   \nmean   17532.500000   2014.662560      6.522930     15.729637     11.500000   \nstd    10122.249256      1.177213      3.448752      8.800218      6.922285   \nmin        1.000000   2013.000000      1.000000      1.000000      0.000000   \n25%     8766.750000   2014.000000      4.000000      8.000000      5.750000   \n50%    17532.500000   2015.000000      7.000000     16.000000     11.500000   \n75%    26298.250000   2016.000000     10.000000     23.000000     17.250000   \nmax    35064.000000   2017.000000     12.000000     31.000000     23.000000   \n\n              PM2.5          PM10           SO2           NO2            CO  \\\ncount  34111.000000  34287.000000  34084.000000  33425.000000  33642.000000   \nmean      69.626367     91.482690     12.121553     32.497250   1022.554545   \nstd       71.224916     83.289578     18.896912     26.489531    898.738241   \nmin        2.000000      2.000000      0.285600      1.026500    100.000000   \n25%       17.000000     28.000000      2.000000     12.000000    400.000000   \n50%       47.000000     69.000000      4.000000     25.000000    800.000000   \n75%       98.000000    131.000000     14.000000     46.000000   1300.000000   \nmax      762.000000    993.000000    315.000000    231.000000  10000.000000   \n\n                 O3          TEMP          PRES          DEWP          RAIN  \\\ncount  33913.000000  35013.000000  35011.000000  35011.000000  35009.000000   \nmean      59.824713     12.445426   1007.598568      2.238619      0.067940   \nstd       54.605746     11.751103     10.022101     14.052541      0.849046   \nmin        0.214200    -19.900000    982.800000    -43.400000      0.000000   \n25%       18.000000      2.100000    999.300000     -9.600000      0.000000   \n50%       49.000000     13.600000   1007.300000      2.700000      0.000000   \n75%       83.000000     22.300000   1015.500000     15.300000      0.000000   \nmax      444.000000     40.300000   1036.500000     29.100000     45.900000   \n\n               WSPM  \ncount  35015.000000  \nmean       1.652021  \nstd        1.199143  \nmin        0.000000  \n25%        0.900000  \n50%        1.300000  \n75%        2.000000  \nmax       12.900000  ",
      "text/html": "<div>\n<style scoped>\n    .dataframe tbody tr th:only-of-type {\n        vertical-align: middle;\n    }\n\n    .dataframe tbody tr th {\n        vertical-align: top;\n    }\n\n    .dataframe thead th {\n        text-align: right;\n    }\n</style>\n<table border=\"1\" class=\"dataframe\">\n  <thead>\n    <tr style=\"text-align: right;\">\n      <th></th>\n      <th>No</th>\n      <th>year</th>\n      <th>month</th>\n      <th>day</th>\n      <th>hour</th>\n      <th>PM2.5</th>\n      <th>PM10</th>\n      <th>SO2</th>\n      <th>NO2</th>\n      <th>CO</th>\n      <th>O3</th>\n      <th>TEMP</th>\n      <th>PRES</th>\n      <th>DEWP</th>\n      <th>RAIN</th>\n      <th>WSPM</th>\n    </tr>\n  </thead>\n  <tbody>\n    <tr>\n      <th>count</th>\n      <td>35064.000000</td>\n      <td>35064.000000</td>\n      <td>35064.000000</td>\n      <td>35064.000000</td>\n      <td>35064.000000</td>\n      <td>34111.000000</td>\n      <td>34287.000000</td>\n      <td>34084.000000</td>\n      <td>33425.000000</td>\n      <td>33642.000000</td>\n      <td>33913.000000</td>\n      <td>35013.000000</td>\n      <td>35011.000000</td>\n      <td>35011.000000</td>\n      <td>35009.000000</td>\n      <td>35015.000000</td>\n    </tr>\n    <tr>\n      <th>mean</th>\n      <td>17532.500000</td>\n      <td>2014.662560</td>\n      <td>6.522930</td>\n      <td>15.729637</td>\n      <td>11.500000</td>\n      <td>69.626367</td>\n      <td>91.482690</td>\n      <td>12.121553</td>\n      <td>32.497250</td>\n      <td>1022.554545</td>\n      <td>59.824713</td>\n      <td>12.445426</td>\n      <td>1007.598568</td>\n      <td>2.238619</td>\n      <td>0.067940</td>\n      <td>1.652021</td>\n    </tr>\n    <tr>\n      <th>std</th>\n      <td>10122.249256</td>\n      <td>1.177213</td>\n      <td>3.448752</td>\n      <td>8.800218</td>\n      <td>6.922285</td>\n      <td>71.224916</td>\n      <td>83.289578</td>\n      <td>18.896912</td>\n      <td>26.489531</td>\n      <td>898.738241</td>\n      <td>54.605746</td>\n      <td>11.751103</td>\n      <td>10.022101</td>\n      <td>14.052541</td>\n      <td>0.849046</td>\n      <td>1.199143</td>\n    </tr>\n    <tr>\n      <th>min</th>\n      <td>1.000000</td>\n      <td>2013.000000</td>\n      <td>1.000000</td>\n      <td>1.000000</td>\n      <td>0.000000</td>\n      <td>2.000000</td>\n      <td>2.000000</td>\n      <td>0.285600</td>\n      <td>1.026500</td>\n      <td>100.000000</td>\n      <td>0.214200</td>\n      <td>-19.900000</td>\n      <td>982.800000</td>\n      <td>-43.400000</td>\n      <td>0.000000</td>\n      <td>0.000000</td>\n    </tr>\n    <tr>\n      <th>25%</th>\n      <td>8766.750000</td>\n      <td>2014.000000</td>\n      <td>4.000000</td>\n      <td>8.000000</td>\n      <td>5.750000</td>\n      <td>17.000000</td>\n      <td>28.000000</td>\n      <td>2.000000</td>\n      <td>12.000000</td>\n      <td>400.000000</td>\n      <td>18.000000</td>\n      <td>2.100000</td>\n      <td>999.300000</td>\n      <td>-9.600000</td>\n      <td>0.000000</td>\n      <td>0.900000</td>\n    </tr>\n    <tr>\n      <th>50%</th>\n      <td>17532.500000</td>\n      <td>2015.000000</td>\n      <td>7.000000</td>\n      <td>16.000000</td>\n      <td>11.500000</td>\n      <td>47.000000</td>\n      <td>69.000000</td>\n      <td>4.000000</td>\n      <td>25.000000</td>\n      <td>800.000000</td>\n      <td>49.000000</td>\n      <td>13.600000</td>\n      <td>1007.300000</td>\n      <td>2.700000</td>\n      <td>0.000000</td>\n      <td>1.300000</td>\n    </tr>\n    <tr>\n      <th>75%</th>\n      <td>26298.250000</td>\n      <td>2016.000000</td>\n      <td>10.000000</td>\n      <td>23.000000</td>\n      <td>17.250000</td>\n      <td>98.000000</td>\n      <td>131.000000</td>\n      <td>14.000000</td>\n      <td>46.000000</td>\n      <td>1300.000000</td>\n      <td>83.000000</td>\n      <td>22.300000</td>\n      <td>1015.500000</td>\n      <td>15.300000</td>\n      <td>0.000000</td>\n      <td>2.000000</td>\n    </tr>\n    <tr>\n      <th>max</th>\n      <td>35064.000000</td>\n      <td>2017.000000</td>\n      <td>12.000000</td>\n      <td>31.000000</td>\n      <td>23.000000</td>\n      <td>762.000000</td>\n      <td>993.000000</td>\n      <td>315.000000</td>\n      <td>231.000000</td>\n      <td>10000.000000</td>\n      <td>444.000000</td>\n      <td>40.300000</td>\n      <td>1036.500000</td>\n      <td>29.100000</td>\n      <td>45.900000</td>\n      <td>12.900000</td>\n    </tr>\n  </tbody>\n</table>\n</div>"
     },
     "execution_count": 4,
     "metadata": {},
     "output_type": "execute_result"
    }
   ]
  },
  {
   "cell_type": "code",
   "metadata": {
    "id": "0x2Qs_RFuhXX",
    "colab_type": "code",
    "outputId": "402f5519-a50e-465f-ca9c-8c22d77c9755",
    "colab": {
     "base_uri": "https://localhost:8080/",
     "height": 34
    }
   },
   "source": [
    "df.shape"
   ],
   "execution_count": 5,
   "outputs": [
    {
     "data": {
      "text/plain": "(35064, 18)"
     },
     "execution_count": 5,
     "metadata": {},
     "output_type": "execute_result"
    }
   ]
  },
  {
   "cell_type": "markdown",
   "metadata": {
    "id": "87ZOpa-HukJX",
    "colab_type": "text"
   },
   "source": [
    "The initial Data Set Contains 420768 rows and 18 coloumns \n",
    "including all the nulls in the rows"
   ]
  },
  {
   "cell_type": "code",
   "metadata": {
    "id": "YtRCv7lQ67Q1",
    "colab_type": "code",
    "outputId": "4cd7811e-d399-4a8c-9b66-7bb826db7438",
    "colab": {
     "base_uri": "https://localhost:8080/",
     "height": 357
    }
   },
   "source": [
    "countOfMissing = df.isna().sum()\n",
    "rowNumb = df.shape[0]\n",
    "percMissingValue = {}\n",
    "print(rowNumb)\n",
    "# find the % of the data missing \n",
    "for i in range(countOfMissing.size): \n",
    "    colname = df.columns[i]\n",
    "    keyVal = colname\n",
    "    accValue = (countOfMissing[i]/rowNumb) * 100    \n",
    "    percMissingValue[keyVal] = accValue\n",
    "    \n",
    "series = pd.Series(percMissingValue) \n",
    "\n",
    "print(series)"
   ],
   "execution_count": 6,
   "outputs": [
    {
     "name": "stdout",
     "output_type": "stream",
     "text": [
      "35064\n",
      "No         0.000000\n",
      "year       0.000000\n",
      "month      0.000000\n",
      "day        0.000000\n",
      "hour       0.000000\n",
      "PM2.5      2.717887\n",
      "PM10       2.215948\n",
      "SO2        2.794889\n",
      "NO2        4.674310\n",
      "CO         4.055441\n",
      "O3         3.282569\n",
      "TEMP       0.145448\n",
      "PRES       0.151152\n",
      "DEWP       0.151152\n",
      "RAIN       0.156856\n",
      "wd         0.861282\n",
      "WSPM       0.139744\n",
      "station    0.000000\n",
      "dtype: float64\n"
     ]
    }
   ]
  },
  {
   "cell_type": "markdown",
   "metadata": {
    "id": "QoPvJQrm9kyf",
    "colab_type": "text"
   },
   "source": [
    "### Possible Solutions for Missing Values: 1- remove them, we will be only losing less than 5% of the data 2- replace with some estimation eg: mean, or from a linear regression since (this would make sense since the values at taken at an interval of 1 reading per hour, so we can find the average for that day and replace for missing values)"
   ]
  },
  {
   "cell_type": "code",
   "metadata": {
    "id": "JgmhfQxe9qoU",
    "colab_type": "code",
    "colab": {}
   },
   "source": [
    "#The missing value for Wind direction has been removed as it very small\n",
    "#And it doesn't make sense to replace it with a preprocessing technique \n",
    "df = df.dropna(axis=0, subset=['wd'])\n",
    "\n",
    "#For the numerical values the null values has been filled with the previous value\n",
    "#This works will till 2 steps\n",
    "df = df.fillna(method='ffill', limit=2 )"
   ],
   "execution_count": 7,
   "outputs": []
  },
  {
   "cell_type": "code",
   "metadata": {
    "id": "EcUUO0JcN9K5",
    "colab_type": "code",
    "outputId": "08074434-00c6-4ac5-c9dc-90138112b494",
    "colab": {
     "base_uri": "https://localhost:8080/",
     "height": 340
    }
   },
   "source": [
    "#The remaining missing values\n",
    "newMissing = df.isnull().sum()\n",
    "print(newMissing)"
   ],
   "execution_count": 8,
   "outputs": [
    {
     "name": "stdout",
     "output_type": "stream",
     "text": [
      "No           0\n",
      "year         0\n",
      "month        0\n",
      "day          0\n",
      "hour         0\n",
      "PM2.5      591\n",
      "PM10       516\n",
      "SO2        568\n",
      "NO2        842\n",
      "CO         775\n",
      "O3         614\n",
      "TEMP         0\n",
      "PRES         0\n",
      "DEWP         0\n",
      "RAIN         0\n",
      "wd           0\n",
      "WSPM         0\n",
      "station      0\n",
      "dtype: int64\n"
     ]
    }
   ]
  },
  {
   "cell_type": "code",
   "metadata": {
    "id": "32PxJMP70MAT",
    "colab_type": "code",
    "colab": {}
   },
   "source": [
    "# fill the remaining missing values with that days mean\n",
    "df= df.fillna(df.groupby(['year','month', 'day']).transform('mean'))"
   ],
   "execution_count": 9,
   "outputs": []
  },
  {
   "cell_type": "code",
   "metadata": {
    "id": "fITkwck8HHk0",
    "colab_type": "code",
    "colab": {}
   },
   "source": [
    "df = df.groupby([\"year\",\"month\" , 'day', 'hour']).mean().reset_index().sort_values(by=['year', 'month' , 'day', 'hour'],ascending=True)"
   ],
   "execution_count": 10,
   "outputs": []
  },
  {
   "cell_type": "code",
   "metadata": {
    "id": "8ZlmHWoQHt8u",
    "colab_type": "code",
    "colab": {
     "base_uri": "https://localhost:8080/",
     "height": 34
    },
    "outputId": "1ac584ae-d70f-49fa-ae42-5735073b229e"
   },
   "source": [
    "df.shape"
   ],
   "execution_count": 11,
   "outputs": [
    {
     "data": {
      "text/plain": "(34762, 16)"
     },
     "execution_count": 11,
     "metadata": {},
     "output_type": "execute_result"
    }
   ]
  },
  {
   "cell_type": "markdown",
   "metadata": {
    "id": "TJMdEuYL9x_A",
    "colab_type": "text"
   },
   "source": [
    "### Now we want to check if the statical value changed by much "
   ]
  },
  {
   "cell_type": "code",
   "metadata": {
    "id": "upNuRLFA99Og",
    "colab_type": "code",
    "outputId": "07f67f4d-d705-4922-b0f4-7f0d3773d17a",
    "colab": {
     "base_uri": "https://localhost:8080/",
     "height": 317
    }
   },
   "source": [
    "df.describe()"
   ],
   "execution_count": 12,
   "outputs": [
    {
     "data": {
      "text/plain": "               year         month           day          hour            No  \\\ncount  34762.000000  34762.000000  34762.000000  34762.000000  34762.000000   \nmean    2014.653616      6.522640     15.709683     11.512025  17453.320724   \nstd        1.176349      3.443707      8.804096      6.917082  10114.351200   \nmin     2013.000000      1.000000      1.000000      0.000000      1.000000   \n25%     2014.000000      4.000000      8.000000      6.000000   8691.250000   \n50%     2015.000000      7.000000     16.000000     12.000000  17432.500000   \n75%     2016.000000     10.000000     23.000000     18.000000  26213.750000   \nmax     2017.000000     12.000000     31.000000     23.000000  35064.000000   \n\n              PM2.5          PM10           SO2           NO2            CO  \\\ncount  34498.000000  34498.000000  34498.000000  34498.000000  34450.000000   \nmean      69.449089     91.602070     12.179181     32.008060   1019.195283   \nstd       71.285629     83.900578     19.022281     26.348786    893.689025   \nmin        2.000000      2.000000      0.285600      1.026500    100.000000   \n25%       17.000000     28.000000      2.000000     12.000000    400.000000   \n50%       46.000000     69.000000      4.000000     24.000000    800.000000   \n75%       98.000000    130.000000     14.000000     45.000000   1300.000000   \nmax      762.000000    993.000000    315.000000    231.000000  10000.000000   \n\n                 O3          TEMP          PRES          DEWP          RAIN  \\\ncount  34426.000000  34762.000000  34762.000000  34762.000000  34762.000000   \nmean      60.145604     12.475844   1007.577661      2.218837      0.067988   \nstd       54.643040     11.759357     10.028730     14.067230      0.851741   \nmin        0.214200    -19.900000    982.800000    -34.900000      0.000000   \n25%       19.000000      2.100000    999.300000     -9.700000      0.000000   \n50%       49.000000     13.600000   1007.300000      2.600000      0.000000   \n75%       83.000000     22.300000   1015.500000     15.300000      0.000000   \nmax      444.000000     40.300000   1036.500000     29.100000     45.900000   \n\n               WSPM  \ncount  34762.000000  \nmean       1.662839  \nstd        1.196499  \nmin        0.000000  \n25%        0.900000  \n50%        1.300000  \n75%        2.000000  \nmax       12.900000  ",
      "text/html": "<div>\n<style scoped>\n    .dataframe tbody tr th:only-of-type {\n        vertical-align: middle;\n    }\n\n    .dataframe tbody tr th {\n        vertical-align: top;\n    }\n\n    .dataframe thead th {\n        text-align: right;\n    }\n</style>\n<table border=\"1\" class=\"dataframe\">\n  <thead>\n    <tr style=\"text-align: right;\">\n      <th></th>\n      <th>year</th>\n      <th>month</th>\n      <th>day</th>\n      <th>hour</th>\n      <th>No</th>\n      <th>PM2.5</th>\n      <th>PM10</th>\n      <th>SO2</th>\n      <th>NO2</th>\n      <th>CO</th>\n      <th>O3</th>\n      <th>TEMP</th>\n      <th>PRES</th>\n      <th>DEWP</th>\n      <th>RAIN</th>\n      <th>WSPM</th>\n    </tr>\n  </thead>\n  <tbody>\n    <tr>\n      <th>count</th>\n      <td>34762.000000</td>\n      <td>34762.000000</td>\n      <td>34762.000000</td>\n      <td>34762.000000</td>\n      <td>34762.000000</td>\n      <td>34498.000000</td>\n      <td>34498.000000</td>\n      <td>34498.000000</td>\n      <td>34498.000000</td>\n      <td>34450.000000</td>\n      <td>34426.000000</td>\n      <td>34762.000000</td>\n      <td>34762.000000</td>\n      <td>34762.000000</td>\n      <td>34762.000000</td>\n      <td>34762.000000</td>\n    </tr>\n    <tr>\n      <th>mean</th>\n      <td>2014.653616</td>\n      <td>6.522640</td>\n      <td>15.709683</td>\n      <td>11.512025</td>\n      <td>17453.320724</td>\n      <td>69.449089</td>\n      <td>91.602070</td>\n      <td>12.179181</td>\n      <td>32.008060</td>\n      <td>1019.195283</td>\n      <td>60.145604</td>\n      <td>12.475844</td>\n      <td>1007.577661</td>\n      <td>2.218837</td>\n      <td>0.067988</td>\n      <td>1.662839</td>\n    </tr>\n    <tr>\n      <th>std</th>\n      <td>1.176349</td>\n      <td>3.443707</td>\n      <td>8.804096</td>\n      <td>6.917082</td>\n      <td>10114.351200</td>\n      <td>71.285629</td>\n      <td>83.900578</td>\n      <td>19.022281</td>\n      <td>26.348786</td>\n      <td>893.689025</td>\n      <td>54.643040</td>\n      <td>11.759357</td>\n      <td>10.028730</td>\n      <td>14.067230</td>\n      <td>0.851741</td>\n      <td>1.196499</td>\n    </tr>\n    <tr>\n      <th>min</th>\n      <td>2013.000000</td>\n      <td>1.000000</td>\n      <td>1.000000</td>\n      <td>0.000000</td>\n      <td>1.000000</td>\n      <td>2.000000</td>\n      <td>2.000000</td>\n      <td>0.285600</td>\n      <td>1.026500</td>\n      <td>100.000000</td>\n      <td>0.214200</td>\n      <td>-19.900000</td>\n      <td>982.800000</td>\n      <td>-34.900000</td>\n      <td>0.000000</td>\n      <td>0.000000</td>\n    </tr>\n    <tr>\n      <th>25%</th>\n      <td>2014.000000</td>\n      <td>4.000000</td>\n      <td>8.000000</td>\n      <td>6.000000</td>\n      <td>8691.250000</td>\n      <td>17.000000</td>\n      <td>28.000000</td>\n      <td>2.000000</td>\n      <td>12.000000</td>\n      <td>400.000000</td>\n      <td>19.000000</td>\n      <td>2.100000</td>\n      <td>999.300000</td>\n      <td>-9.700000</td>\n      <td>0.000000</td>\n      <td>0.900000</td>\n    </tr>\n    <tr>\n      <th>50%</th>\n      <td>2015.000000</td>\n      <td>7.000000</td>\n      <td>16.000000</td>\n      <td>12.000000</td>\n      <td>17432.500000</td>\n      <td>46.000000</td>\n      <td>69.000000</td>\n      <td>4.000000</td>\n      <td>24.000000</td>\n      <td>800.000000</td>\n      <td>49.000000</td>\n      <td>13.600000</td>\n      <td>1007.300000</td>\n      <td>2.600000</td>\n      <td>0.000000</td>\n      <td>1.300000</td>\n    </tr>\n    <tr>\n      <th>75%</th>\n      <td>2016.000000</td>\n      <td>10.000000</td>\n      <td>23.000000</td>\n      <td>18.000000</td>\n      <td>26213.750000</td>\n      <td>98.000000</td>\n      <td>130.000000</td>\n      <td>14.000000</td>\n      <td>45.000000</td>\n      <td>1300.000000</td>\n      <td>83.000000</td>\n      <td>22.300000</td>\n      <td>1015.500000</td>\n      <td>15.300000</td>\n      <td>0.000000</td>\n      <td>2.000000</td>\n    </tr>\n    <tr>\n      <th>max</th>\n      <td>2017.000000</td>\n      <td>12.000000</td>\n      <td>31.000000</td>\n      <td>23.000000</td>\n      <td>35064.000000</td>\n      <td>762.000000</td>\n      <td>993.000000</td>\n      <td>315.000000</td>\n      <td>231.000000</td>\n      <td>10000.000000</td>\n      <td>444.000000</td>\n      <td>40.300000</td>\n      <td>1036.500000</td>\n      <td>29.100000</td>\n      <td>45.900000</td>\n      <td>12.900000</td>\n    </tr>\n  </tbody>\n</table>\n</div>"
     },
     "execution_count": 12,
     "metadata": {},
     "output_type": "execute_result"
    }
   ]
  },
  {
   "cell_type": "code",
   "metadata": {
    "id": "N76G66hReA2i",
    "colab_type": "code",
    "outputId": "996cd20b-d6d7-4c4d-9cd5-c990e422a7eb",
    "colab": {
     "base_uri": "https://localhost:8080/",
     "height": 320
    }
   },
   "source": [
    "import seaborn as sns\n",
    "import matplotlib.pyplot as plt\n",
    "plt.figure(figsize=(10, 5))\n",
    "boxPlotDf = df.iloc[:, 5:]\n",
    "boxPlotDf = boxPlotDf.iloc[:, 0:6]\n",
    "ax = sns.boxplot(data=np.log10(boxPlotDf))\n"
   ],
   "execution_count": 13,
   "outputs": [
    {
     "data": {
      "text/plain": "<Figure size 720x360 with 1 Axes>",
      "image/png": "[encoded data removed]"
     },
     "metadata": {
      "needs_background": "light"
     },
     "output_type": "display_data"
    }
   ]
  },
  {
   "cell_type": "code",
   "metadata": {
    "id": "W5aJMCIenKbW",
    "colab_type": "code",
    "outputId": "c98c2028-ccd6-49d1-fd23-4289b799681f",
    "colab": {
     "base_uri": "https://localhost:8080/",
     "height": 635
    }
   },
   "source": [
    "correlation = df.corr()\n",
    "f,ax = plt.subplots(figsize=(10,10))\n",
    "sns.heatmap(correlation, cmap=\"YlGnBu\")"
   ],
   "execution_count": 14,
   "outputs": [
    {
     "data": {
      "text/plain": "<matplotlib.axes._subplots.AxesSubplot at 0x7fe10e2c4e80>"
     },
     "execution_count": 14,
     "metadata": {},
     "output_type": "execute_result"
    },
    {
     "data": {
      "text/plain": "<Figure size 720x720 with 2 Axes>",
      "image/png": "[encoded data removed]"
     },
     "metadata": {
      "needs_background": "light"
     },
     "output_type": "display_data"
    }
   ]
  },
  {
   "cell_type": "markdown",
   "metadata": {
    "id": "Ij-hCMMK6si_",
    "colab_type": "text"
   },
   "source": [
    "<h4> It is possible to observe from the box plot that thre are few outlier in the dataset and these could be removed in the future to produce more accurate models. The confusion matrix clearly shows correlation between the various chemical indicators </h4>"
   ]
  },
  {
   "cell_type": "markdown",
   "metadata": {
    "id": "l8vicxZu7tkE",
    "colab_type": "text"
   },
   "source": [
    "<h3>AQI Calculations </h3>\n",
    "<h4>\n",
    "To calculate AQI values accuratlely we need to perform couple of calculations to the current values we already have\n",
    "\n",
    "<ul>\n",
    "\n",
    "\n",
    "<li>SO2 - 24 hr average </li>\n",
    "<li>NO2 - 24 hr average</li>\n",
    "<li>CO - 24 hr average</li>\n",
    "<li>O3 - 8 hr moving average</li>\n",
    "<li>PM2.5 - 24 hr average</li>\n",
    "<li>Pm10 - 24 hr average</li>\n",
    "</ul>\n",
    "Once we have all these values calculated we need to calcuale the AQI value for these independenlty and choose the Highest AQI or the Average of these as the final AQI value\n",
    "\n",
    "</h4>"
   ]
  },
  {
   "cell_type": "code",
   "metadata": {
    "id": "Oz_QU-4m7RLJ",
    "colab_type": "code",
    "colab": {}
   },
   "source": [
    "O3_index = df.columns.get_loc('O3')\n",
    "#print(O3_index)\n",
    "df['O3_8hrAvg'] = df.iloc[:,O3_index].rolling(window=8).mean().shift(1)\n",
    "\n",
    "# no we are calculating the 24 average for the rest of the features \n",
    "considered_Columns = ['PM2.5', 'PM10' , 'SO2' , 'NO2', 'CO']\n",
    "_24HrAvg = \"_24HRAvg\"\n",
    "_8hrAvg = \"_8hrAvg\"\n",
    "\n",
    "for n in considered_Columns:\n",
    "    tempIndex = df.columns.get_loc(n)\n",
    "    df[n + _24HrAvg] = df.iloc[:,tempIndex].rolling(window=24).mean().shift(1)\n",
    "\n",
    "#drop the NA values for missing Moving Average Values \n",
    "df = df.dropna(axis=0,)\n",
    "\n",
    "# we need to convert the value of CO values which are in ug/m^3 to mg/m^3 we do this by dividing by 1000\n",
    "\n",
    "def convertCo(value):\n",
    "    \n",
    "    newValue = value/ 1000\n",
    "    newValue = int(round(newValue))\n",
    "    return newValue"
   ],
   "execution_count": 15,
   "outputs": []
  },
  {
   "cell_type": "code",
   "metadata": {
    "id": "3bLu927f8lKx",
    "colab_type": "code",
    "colab": {}
   },
   "source": [
    "df['CO_24HRAvg'] = df.apply(lambda x: convertCo (x['CO_24HRAvg']), axis=1)"
   ],
   "execution_count": 16,
   "outputs": []
  },
  {
   "cell_type": "code",
   "metadata": {
    "id": "BcPkYUQMcj-0",
    "colab_type": "code",
    "colab": {}
   },
   "source": [
    "# function that used to calculate the inidividual IAQI values for each chemical \n",
    "\n",
    "\n",
    "def iaqiFunction(chemicalBrakingPoints, chem24AvlList ):\n",
    "  chemicalList = chemicalBrakingPoints\n",
    "  tempIAQI = []\n",
    "  #print(chemicalList)\n",
    "  for i in chem24AvlList:\n",
    "    value = i \n",
    "    if (value <= chemicalList[0]) :\n",
    "        x = ((lev1[1]-lev1[0])/(chemicalList[0]-0))*(value-0) + lev1[0]\n",
    "        tempIAQI.append(x)\n",
    "    \n",
    "    elif (value >= chemicalList[1] and value <= chemicalList[2]):\n",
    "        x = ((lev2[1]-lev2[0])/(chemicalList[2]-chemicalList[1]))*(value-chemicalList[1]) + lev2[0]\n",
    "        tempIAQI.append(x)\n",
    "    \n",
    "    elif (value >= chemicalList[3] and value <=chemicalList[4] ):\n",
    "        x = ((lev3[1]-lev3[0])/(chemicalList[4]-chemicalList[3]))*(value-chemicalList[3]) + lev3[0]\n",
    "        tempIAQI.append(x)\n",
    "        \n",
    "    elif(value >= chemicalList[5] and value <=chemicalList[6]):\n",
    "        x = ((lev4[1]-lev4[0])/(chemicalList[6]-chemicalList[5]))*(value-chemicalList[5]) + lev4[0]\n",
    "        tempIAQI.append(x)\n",
    "        \n",
    "    elif(value >= chemicalList[7] and value <= chemicalList[8] ): \n",
    "        x = ((lev5[1]-lev5[0])/(chemicalList[8]-chemicalList[7]))*(value-chemicalList[7]) + lev5[0]\n",
    "        tempIAQI.append(x)\n",
    "        \n",
    "    elif(value >= chemicalList[9] and value <= chemicalList[10] ): \n",
    "        x = ((lev6[1]-lev6[0])/(chemicalList[10]-chemicalList[9]))*(value-chemicalList[9]) + lev6[0]\n",
    "        tempIAQI.append(x)\n",
    "        \n",
    "    elif(value >= chemicalList[11]): \n",
    "        x = ((lev7[1]-lev7[0])/(chemicalList[12]-chemicalList[11]))*(value-chemicalList[11]) + lev7[0]\n",
    "        tempIAQI.append(x)\n",
    "  print(f'this is the len of the list: {len(tempIAQI)}')\n",
    "  return tempIAQI\n"
   ],
   "execution_count": 17,
   "outputs": []
  },
  {
   "cell_type": "code",
   "metadata": {
    "id": "usfNHSqr0imO",
    "colab_type": "code",
    "outputId": "1d174d14-c0f7-4df0-f615-a29476459657",
    "colab": {
     "base_uri": "https://localhost:8080/",
     "height": 119
    }
   },
   "source": [
    "lev1 = [0,50] #lev1\n",
    "lev2 = [51,100] #lev2\n",
    "lev3 = [101, 150] #lev3\n",
    "lev4 = [151, 200] #lev4\n",
    "lev5 = [201 , 300] #lev5\n",
    "lev6 = [301, 400] #lev6\n",
    "lev7 = [401, 500] #lev6\n",
    "\n",
    "chemicalUsedForAQI = ['PM2.5',\t'PM10' ,'SO2' ,'NO2' , 'CO' , 'O3']\n",
    "\n",
    "dictionaryBreakingPoints = {\n",
    "    'chemical_PM25' : [12, 12.1, 35.4, 35.5 , 55.4, 55.5 , 150.4 , 150.5 , 250.4 , 250.5 , 350.4, 350.5, 500.4 ], \n",
    "    'chemical_PM10' : [54 , 55 , 154 , 155 , 254 , 255 , 354 , 355 , 424, 425 , 504 , 505 , 604],\n",
    "    'chemical_SO2' : [50, 51, 150 , 151 , 475 , 476 , 800 , 801 , 1600 , 1601 , 2100 , 2101 , 2620],\n",
    "    'chemical_NO2' : [40 , 41 , 80 , 81 , 180 , 181 , 280 , 281, 565, 566 , 750 , 751 , 940 ],\n",
    "    'chemical_CO': [2 , 3 , 4 , 5, 14 , 15 , 24, 25 , 36 , 37 , 48, 49, 60] ,\n",
    "    'chemical_O3': [160, 161 , 200 , 201 , 300, 301 , 400 , 401 , 800, 801 , 1000, 1001, 1200],\n",
    "}\n",
    "\n",
    "df_AQIs = pd.DataFrame()\n",
    "\n",
    "for i in chemicalUsedForAQI:\n",
    "\n",
    "  if i != \"O3\":\n",
    "    temp_Chem = df[i]\n",
    "    temp_MAvgChem = df[ i + _24HrAvg ].round().astype(int)\n",
    "  else :\n",
    "    temp_MAvgChem = df[ i + _8hrAvg].round().astype(int)\n",
    "\n",
    "\n",
    "  if i == \"PM2.5\" :\n",
    "    #print(f'this is the lenght of the 24hravg: {len(temp_MAvgChem)} , and the len of arra {len(dictionaryBreakingPoints[\"chemical_PM25\"])}')\n",
    "    #print(temp_MAvgChem[:3])\n",
    "    newColName = 'IAQI_'+i\n",
    "    name = 'PM25'\n",
    "    lookfor= 'chemical_' + name\n",
    "    df_AQIs[newColName] = iaqiFunction(dictionaryBreakingPoints[lookfor] , temp_MAvgChem)\n",
    "  else:\n",
    "    #print(f'this is the lenght of the 24hravg: {len(temp_MAvgChem)} , and the len of arra {len(dictionaryBreakingPoints[\"chemical_PM10\"])}')\n",
    "    #print(temp_MAvgChem[:3])\n",
    "    newColName = 'IAQI_'+i\n",
    "    lookfor= 'chemical_'+ str(i)\n",
    "    df_AQIs[newColName] = iaqiFunction(dictionaryBreakingPoints[lookfor] , temp_MAvgChem)\n",
    "  \n",
    "\n",
    "\n"
   ],
   "execution_count": 18,
   "outputs": [
    {
     "name": "stdout",
     "output_type": "stream",
     "text": [
      "this is the len of the list: 34250\n",
      "this is the len of the list: 34250\n",
      "this is the len of the list: 34250\n",
      "this is the len of the list: 34250\n",
      "this is the len of the list: 34250\n",
      "this is the len of the list: 34250\n"
     ]
    }
   ]
  },
  {
   "cell_type": "code",
   "metadata": {
    "id": "pAlTkanjSua2",
    "colab_type": "code",
    "outputId": "414ae308-aeeb-45ef-89d9-a9aaa7f84769",
    "colab": {
     "base_uri": "https://localhost:8080/",
     "height": 34
    }
   },
   "source": [
    "df_AQIs['AQI'] = df_AQIs.max(axis =1)\n",
    "df_AQIs.shape"
   ],
   "execution_count": 19,
   "outputs": [
    {
     "data": {
      "text/plain": "(34250, 7)"
     },
     "execution_count": 19,
     "metadata": {},
     "output_type": "execute_result"
    }
   ]
  },
  {
   "cell_type": "code",
   "metadata": {
    "id": "eAhb2MEgRrvM",
    "colab_type": "code",
    "outputId": "165d91d4-ed34-41ea-95fb-4062e4008cfd",
    "colab": {
     "base_uri": "https://localhost:8080/",
     "height": 224
    }
   },
   "source": [
    "df['AQI'] = df_AQIs['AQI'].to_numpy()\n",
    "df['AQI'] = df.AQI.astype(float).round().astype(int)\n",
    "df.head()"
   ],
   "execution_count": 20,
   "outputs": [
    {
     "data": {
      "text/plain": "    year  month  day  hour  No  PM2.5  PM10   SO2   NO2     CO  ...  DEWP  \\\n24  2013      3    2     0  25   15.0  21.0  44.0  28.0  500.0  ... -19.3   \n25  2013      3    2     1  26    9.0  16.0  28.0  17.0  400.0  ... -19.1   \n26  2013      3    2     2  27   11.0  13.0  40.0  16.0  300.0  ... -19.6   \n27  2013      3    2     3  28    8.0  15.0  27.0  17.0  400.0  ... -19.3   \n28  2013      3    2     4  29   13.0  15.0  47.0  26.0  400.0  ... -18.1   \n\n    RAIN  WSPM  O3_8hrAvg  PM2.5_24HRAvg  PM10_24HRAvg  SO2_24HRAvg  \\\n24   0.0   4.8     71.875       7.541667     12.375000    15.416667   \n25   0.0   2.6     68.250       7.875000     12.958333    17.125000   \n26   0.0   3.9     66.625       8.083333     13.458333    18.166667   \n27   0.0   2.4     65.500       8.375000     13.833333    19.708333   \n28   0.0   0.6     65.000       8.583333     14.333333    20.708333   \n\n    NO2_24HRAvg  CO_24HRAvg  AQI  \n24    10.666667           0   33  \n25    11.750000           0   33  \n26    12.375000           0   33  \n27    12.958333           0   33  \n28    13.583333           0   38  \n\n[5 rows x 23 columns]",
      "text/html": "<div>\n<style scoped>\n    .dataframe tbody tr th:only-of-type {\n        vertical-align: middle;\n    }\n\n    .dataframe tbody tr th {\n        vertical-align: top;\n    }\n\n    .dataframe thead th {\n        text-align: right;\n    }\n</style>\n<table border=\"1\" class=\"dataframe\">\n  <thead>\n    <tr style=\"text-align: right;\">\n      <th></th>\n      <th>year</th>\n      <th>month</th>\n      <th>day</th>\n      <th>hour</th>\n      <th>No</th>\n      <th>PM2.5</th>\n      <th>PM10</th>\n      <th>SO2</th>\n      <th>NO2</th>\n      <th>CO</th>\n      <th>...</th>\n      <th>DEWP</th>\n      <th>RAIN</th>\n      <th>WSPM</th>\n      <th>O3_8hrAvg</th>\n      <th>PM2.5_24HRAvg</th>\n      <th>PM10_24HRAvg</th>\n      <th>SO2_24HRAvg</th>\n      <th>NO2_24HRAvg</th>\n      <th>CO_24HRAvg</th>\n      <th>AQI</th>\n    </tr>\n  </thead>\n  <tbody>\n    <tr>\n      <th>24</th>\n      <td>2013</td>\n      <td>3</td>\n      <td>2</td>\n      <td>0</td>\n      <td>25</td>\n      <td>15.0</td>\n      <td>21.0</td>\n      <td>44.0</td>\n      <td>28.0</td>\n      <td>500.0</td>\n      <td>...</td>\n      <td>-19.3</td>\n      <td>0.0</td>\n      <td>4.8</td>\n      <td>71.875</td>\n      <td>7.541667</td>\n      <td>12.375000</td>\n      <td>15.416667</td>\n      <td>10.666667</td>\n      <td>0</td>\n      <td>33</td>\n    </tr>\n    <tr>\n      <th>25</th>\n      <td>2013</td>\n      <td>3</td>\n      <td>2</td>\n      <td>1</td>\n      <td>26</td>\n      <td>9.0</td>\n      <td>16.0</td>\n      <td>28.0</td>\n      <td>17.0</td>\n      <td>400.0</td>\n      <td>...</td>\n      <td>-19.1</td>\n      <td>0.0</td>\n      <td>2.6</td>\n      <td>68.250</td>\n      <td>7.875000</td>\n      <td>12.958333</td>\n      <td>17.125000</td>\n      <td>11.750000</td>\n      <td>0</td>\n      <td>33</td>\n    </tr>\n    <tr>\n      <th>26</th>\n      <td>2013</td>\n      <td>3</td>\n      <td>2</td>\n      <td>2</td>\n      <td>27</td>\n      <td>11.0</td>\n      <td>13.0</td>\n      <td>40.0</td>\n      <td>16.0</td>\n      <td>300.0</td>\n      <td>...</td>\n      <td>-19.6</td>\n      <td>0.0</td>\n      <td>3.9</td>\n      <td>66.625</td>\n      <td>8.083333</td>\n      <td>13.458333</td>\n      <td>18.166667</td>\n      <td>12.375000</td>\n      <td>0</td>\n      <td>33</td>\n    </tr>\n    <tr>\n      <th>27</th>\n      <td>2013</td>\n      <td>3</td>\n      <td>2</td>\n      <td>3</td>\n      <td>28</td>\n      <td>8.0</td>\n      <td>15.0</td>\n      <td>27.0</td>\n      <td>17.0</td>\n      <td>400.0</td>\n      <td>...</td>\n      <td>-19.3</td>\n      <td>0.0</td>\n      <td>2.4</td>\n      <td>65.500</td>\n      <td>8.375000</td>\n      <td>13.833333</td>\n      <td>19.708333</td>\n      <td>12.958333</td>\n      <td>0</td>\n      <td>33</td>\n    </tr>\n    <tr>\n      <th>28</th>\n      <td>2013</td>\n      <td>3</td>\n      <td>2</td>\n      <td>4</td>\n      <td>29</td>\n      <td>13.0</td>\n      <td>15.0</td>\n      <td>47.0</td>\n      <td>26.0</td>\n      <td>400.0</td>\n      <td>...</td>\n      <td>-18.1</td>\n      <td>0.0</td>\n      <td>0.6</td>\n      <td>65.000</td>\n      <td>8.583333</td>\n      <td>14.333333</td>\n      <td>20.708333</td>\n      <td>13.583333</td>\n      <td>0</td>\n      <td>38</td>\n    </tr>\n  </tbody>\n</table>\n<p>5 rows × 23 columns</p>\n</div>"
     },
     "execution_count": 20,
     "metadata": {},
     "output_type": "execute_result"
    }
   ]
  },
  {
   "cell_type": "markdown",
   "metadata": {
    "id": "xeHlI9jZZWWe",
    "colab_type": "text"
   },
   "source": [
    "\n",
    "<h4> Now that we have the AQI values for the combines chemical it is possible catagorize them and use to run our models </h4>"
   ]
  },
  {
   "cell_type": "code",
   "metadata": {
    "id": "lEcwlPM_btSA",
    "colab_type": "code",
    "colab": {}
   },
   "source": [
    "# make a function to convert AQI values into catagorical Values \n",
    "\n",
    "# 0 -> AQI(0-50)\n",
    "# 1 -> AQI(51-100)\n",
    "# 2 -> AQI(101-150)\n",
    "# 3 -> AQI(151 - 200)\n",
    "# 4 -> AQI(201-300)\n",
    "# 5 -> AQI(>300)\n",
    "\n",
    "\n",
    "def convertAQItoCatagorical (aqiValue ) : \n",
    "    catagory =0 \n",
    "    \n",
    "    if (aqiValue <50) :\n",
    "        catagory = 0\n",
    "    \n",
    "    elif (aqiValue >=51 and aqiValue <= 100):\n",
    "        catagory = 1\n",
    "        \n",
    "    elif (aqiValue >=101 and aqiValue <= 150):\n",
    "        catagory = 2\n",
    "        \n",
    "    elif (aqiValue >=151 and aqiValue <= 200):\n",
    "        catagory = 3 \n",
    "    \n",
    "    elif (aqiValue >=201 and aqiValue <= 300):\n",
    "        catagory = 4\n",
    "        \n",
    "    elif (aqiValue >300):\n",
    "        catagory = 5\n",
    "        \n",
    "    return catagory"
   ],
   "execution_count": 21,
   "outputs": []
  },
  {
   "cell_type": "code",
   "metadata": {
    "id": "iIZbQqUyda-D",
    "colab_type": "code",
    "colab": {}
   },
   "source": [
    "import time"
   ],
   "execution_count": 22,
   "outputs": []
  },
  {
   "cell_type": "code",
   "metadata": {
    "id": "YEQbG5HSeDq0",
    "colab_type": "code",
    "outputId": "ef5d27f6-2aaf-4c90-c366-396e9ce6ba42",
    "colab": {
     "base_uri": "https://localhost:8080/",
     "height": 34
    }
   },
   "source": [
    "start_time = time.time()\n",
    "df['AQI'] = df.apply(lambda x: convertAQItoCatagorical(x['AQI']), axis=1)\n",
    "print(\"--- %s seconds ---\" % (time.time() - start_time))"
   ],
   "execution_count": 23,
   "outputs": [
    {
     "name": "stdout",
     "output_type": "stream",
     "text": [
      "--- 0.30622291564941406 seconds ---\n"
     ]
    }
   ]
  },
  {
   "cell_type": "code",
   "metadata": {
    "id": "HXOaUWnPngtv",
    "colab_type": "code",
    "outputId": "9b8c8f6f-9fe0-46df-f8f1-1e14f12d631b",
    "colab": {
     "base_uri": "https://localhost:8080/",
     "height": 224
    }
   },
   "source": [
    "df.head()"
   ],
   "execution_count": 24,
   "outputs": [
    {
     "data": {
      "text/plain": "    year  month  day  hour  No  PM2.5  PM10   SO2   NO2     CO  ...  DEWP  \\\n24  2013      3    2     0  25   15.0  21.0  44.0  28.0  500.0  ... -19.3   \n25  2013      3    2     1  26    9.0  16.0  28.0  17.0  400.0  ... -19.1   \n26  2013      3    2     2  27   11.0  13.0  40.0  16.0  300.0  ... -19.6   \n27  2013      3    2     3  28    8.0  15.0  27.0  17.0  400.0  ... -19.3   \n28  2013      3    2     4  29   13.0  15.0  47.0  26.0  400.0  ... -18.1   \n\n    RAIN  WSPM  O3_8hrAvg  PM2.5_24HRAvg  PM10_24HRAvg  SO2_24HRAvg  \\\n24   0.0   4.8     71.875       7.541667     12.375000    15.416667   \n25   0.0   2.6     68.250       7.875000     12.958333    17.125000   \n26   0.0   3.9     66.625       8.083333     13.458333    18.166667   \n27   0.0   2.4     65.500       8.375000     13.833333    19.708333   \n28   0.0   0.6     65.000       8.583333     14.333333    20.708333   \n\n    NO2_24HRAvg  CO_24HRAvg  AQI  \n24    10.666667           0    0  \n25    11.750000           0    0  \n26    12.375000           0    0  \n27    12.958333           0    0  \n28    13.583333           0    0  \n\n[5 rows x 23 columns]",
      "text/html": "<div>\n<style scoped>\n    .dataframe tbody tr th:only-of-type {\n        vertical-align: middle;\n    }\n\n    .dataframe tbody tr th {\n        vertical-align: top;\n    }\n\n    .dataframe thead th {\n        text-align: right;\n    }\n</style>\n<table border=\"1\" class=\"dataframe\">\n  <thead>\n    <tr style=\"text-align: right;\">\n      <th></th>\n      <th>year</th>\n      <th>month</th>\n      <th>day</th>\n      <th>hour</th>\n      <th>No</th>\n      <th>PM2.5</th>\n      <th>PM10</th>\n      <th>SO2</th>\n      <th>NO2</th>\n      <th>CO</th>\n      <th>...</th>\n      <th>DEWP</th>\n      <th>RAIN</th>\n      <th>WSPM</th>\n      <th>O3_8hrAvg</th>\n      <th>PM2.5_24HRAvg</th>\n      <th>PM10_24HRAvg</th>\n      <th>SO2_24HRAvg</th>\n      <th>NO2_24HRAvg</th>\n      <th>CO_24HRAvg</th>\n      <th>AQI</th>\n    </tr>\n  </thead>\n  <tbody>\n    <tr>\n      <th>24</th>\n      <td>2013</td>\n      <td>3</td>\n      <td>2</td>\n      <td>0</td>\n      <td>25</td>\n      <td>15.0</td>\n      <td>21.0</td>\n      <td>44.0</td>\n      <td>28.0</td>\n      <td>500.0</td>\n      <td>...</td>\n      <td>-19.3</td>\n      <td>0.0</td>\n      <td>4.8</td>\n      <td>71.875</td>\n      <td>7.541667</td>\n      <td>12.375000</td>\n      <td>15.416667</td>\n      <td>10.666667</td>\n      <td>0</td>\n      <td>0</td>\n    </tr>\n    <tr>\n      <th>25</th>\n      <td>2013</td>\n      <td>3</td>\n      <td>2</td>\n      <td>1</td>\n      <td>26</td>\n      <td>9.0</td>\n      <td>16.0</td>\n      <td>28.0</td>\n      <td>17.0</td>\n      <td>400.0</td>\n      <td>...</td>\n      <td>-19.1</td>\n      <td>0.0</td>\n      <td>2.6</td>\n      <td>68.250</td>\n      <td>7.875000</td>\n      <td>12.958333</td>\n      <td>17.125000</td>\n      <td>11.750000</td>\n      <td>0</td>\n      <td>0</td>\n    </tr>\n    <tr>\n      <th>26</th>\n      <td>2013</td>\n      <td>3</td>\n      <td>2</td>\n      <td>2</td>\n      <td>27</td>\n      <td>11.0</td>\n      <td>13.0</td>\n      <td>40.0</td>\n      <td>16.0</td>\n      <td>300.0</td>\n      <td>...</td>\n      <td>-19.6</td>\n      <td>0.0</td>\n      <td>3.9</td>\n      <td>66.625</td>\n      <td>8.083333</td>\n      <td>13.458333</td>\n      <td>18.166667</td>\n      <td>12.375000</td>\n      <td>0</td>\n      <td>0</td>\n    </tr>\n    <tr>\n      <th>27</th>\n      <td>2013</td>\n      <td>3</td>\n      <td>2</td>\n      <td>3</td>\n      <td>28</td>\n      <td>8.0</td>\n      <td>15.0</td>\n      <td>27.0</td>\n      <td>17.0</td>\n      <td>400.0</td>\n      <td>...</td>\n      <td>-19.3</td>\n      <td>0.0</td>\n      <td>2.4</td>\n      <td>65.500</td>\n      <td>8.375000</td>\n      <td>13.833333</td>\n      <td>19.708333</td>\n      <td>12.958333</td>\n      <td>0</td>\n      <td>0</td>\n    </tr>\n    <tr>\n      <th>28</th>\n      <td>2013</td>\n      <td>3</td>\n      <td>2</td>\n      <td>4</td>\n      <td>29</td>\n      <td>13.0</td>\n      <td>15.0</td>\n      <td>47.0</td>\n      <td>26.0</td>\n      <td>400.0</td>\n      <td>...</td>\n      <td>-18.1</td>\n      <td>0.0</td>\n      <td>0.6</td>\n      <td>65.000</td>\n      <td>8.583333</td>\n      <td>14.333333</td>\n      <td>20.708333</td>\n      <td>13.583333</td>\n      <td>0</td>\n      <td>0</td>\n    </tr>\n  </tbody>\n</table>\n<p>5 rows × 23 columns</p>\n</div>"
     },
     "execution_count": 24,
     "metadata": {},
     "output_type": "execute_result"
    }
   ]
  },
  {
   "cell_type": "code",
   "metadata": {
    "id": "9MvtqqUffhcD",
    "colab_type": "code",
    "outputId": "28650d91-fa8c-4fd2-8544-a3d4c18d5f4f",
    "colab": {
     "base_uri": "https://localhost:8080/",
     "height": 683
    }
   },
   "source": [
    "correlation = df.corr()\n",
    "f,ax = plt.subplots(figsize=(10,10))\n",
    "sns.heatmap(correlation, cmap=\"YlGnBu\")"
   ],
   "execution_count": 25,
   "outputs": [
    {
     "data": {
      "text/plain": "<matplotlib.axes._subplots.AxesSubplot at 0x7fe1803fcf70>"
     },
     "execution_count": 25,
     "metadata": {},
     "output_type": "execute_result"
    },
    {
     "data": {
      "text/plain": "<Figure size 720x720 with 2 Axes>",
      "image/png": "[encoded data removed]"
     },
     "metadata": {
      "needs_background": "light"
     },
     "output_type": "display_data"
    }
   ]
  },
  {
   "cell_type": "markdown",
   "metadata": {
    "id": "mFH0jV09ldDf",
    "colab_type": "text"
   },
   "source": [
    "<h1> Model building </h1>\n",
    "\n",
    "<h3> K-nn To predict the missing the AQI values </h1>\n",
    "\n"
   ]
  },
  {
   "cell_type": "code",
   "metadata": {
    "id": "PMPjilkglcvZ",
    "colab_type": "code",
    "colab": {}
   },
   "source": [
    "from sklearn.model_selection import train_test_split\n",
    "from sklearn.neighbors import KNeighborsClassifier\n",
    "from sklearn.preprocessing import StandardScaler\n"
   ],
   "execution_count": 26,
   "outputs": []
  },
  {
   "cell_type": "code",
   "metadata": {
    "id": "ub2gH6nsnQEv",
    "colab_type": "code",
    "colab": {}
   },
   "source": [
    "# feauture df\n",
    "#X = df[['PM2.5','PM10','SO2', 'NO2', 'CO', 'O3' , 'TEMP' , 'PRES' , 'DEWP' , 'RAIN']].values\n",
    "X_DF = df[['PM10','PM10_24HRAvg','O3','O3_8hrAvg','TEMP' , 'PRES' , 'DEWP' , 'RAIN']].values\n",
    "#target df\n",
    "#y = df[['AQI']].values\n",
    "Y_DF = df[['AQI']].values"
   ],
   "execution_count": 27,
   "outputs": []
  },
  {
   "cell_type": "code",
   "metadata": {
    "id": "WK3NFUbDAfRT",
    "colab_type": "code",
    "colab": {}
   },
   "source": [
    "scaler = StandardScaler()\n",
    "x_new = scaler.fit_transform(X_DF)"
   ],
   "execution_count": 28,
   "outputs": []
  },
  {
   "cell_type": "code",
   "metadata": {
    "id": "5eeUTWgg1yqm",
    "colab_type": "code",
    "outputId": "34a04967-03f7-43a7-d9ac-a412acb60666",
    "colab": {
     "base_uri": "https://localhost:8080/",
     "height": 34
    }
   },
   "source": [
    "# try PCA to reduce the complexity and run time of the algorithm \n",
    "from sklearn.decomposition import PCA\n",
    "pca = PCA(n_components=4)\n",
    "principalComponents = pca.fit_transform(x_new)\n",
    "pca.explained_variance_ratio_"
   ],
   "execution_count": 29,
   "outputs": [
    {
     "data": {
      "text/plain": "array([0.41408607, 0.20823821, 0.1323923 , 0.12310364])"
     },
     "execution_count": 29,
     "metadata": {},
     "output_type": "execute_result"
    }
   ]
  },
  {
   "cell_type": "code",
   "metadata": {
    "id": "qpEazjNun7w4",
    "colab_type": "code",
    "colab": {}
   },
   "source": [
    "\n",
    "from sklearn.model_selection import train_test_split\n",
    "X_train, X_test, y_train, y_test = train_test_split(principalComponents, Y_DF, test_size=0.20) \n"
   ],
   "execution_count": 30,
   "outputs": []
  },
  {
   "cell_type": "markdown",
   "metadata": {
    "id": "bgYxB4He9Goa",
    "colab_type": "text"
   },
   "source": [
    "Hyperparameter Tuning"
   ]
  },
  {
   "cell_type": "code",
   "metadata": {
    "id": "VvhSHUt2jEnm",
    "colab_type": "code",
    "outputId": "889f6120-d6d8-4128-d06e-9fd146fae53a",
    "colab": {
     "base_uri": "https://localhost:8080/",
     "height": 850
    }
   },
   "source": [
    "\n",
    "from sklearn.model_selection import cross_val_score\n",
    "score = []\n",
    "count = 0 \n",
    "maxVal = 50\n",
    "for i in range(1,50):\n",
    "  classifier = KNeighborsClassifier(n_neighbors=i)\n",
    "  tempScore = cross_val_score(classifier, principalComponents, Y_DF.ravel(), cv=10, scoring='accuracy')\n",
    "  score.append(tempScore.mean())\n",
    "  count = count + 1\n",
    "  print(f'% done is {int( (count / maxVal) *100 )}')\n"
   ],
   "execution_count": 31,
   "outputs": [
    {
     "name": "stdout",
     "output_type": "stream",
     "text": [
      "% done is 2\n",
      "% done is 4\n",
      "% done is 6\n",
      "% done is 8\n",
      "% done is 10\n",
      "% done is 12\n",
      "% done is 14\n",
      "% done is 16\n",
      "% done is 18\n",
      "% done is 20\n",
      "% done is 22\n",
      "% done is 24\n",
      "% done is 26\n",
      "% done is 28\n",
      "% done is 30\n",
      "% done is 32\n",
      "% done is 34\n",
      "% done is 36\n",
      "% done is 38\n",
      "% done is 40\n",
      "% done is 42\n",
      "% done is 44\n",
      "% done is 46\n",
      "% done is 48\n",
      "% done is 50\n",
      "% done is 52\n",
      "% done is 54\n",
      "% done is 56\n",
      "% done is 57\n",
      "% done is 60\n",
      "% done is 62\n",
      "% done is 64\n",
      "% done is 66\n",
      "% done is 68\n",
      "% done is 70\n",
      "% done is 72\n",
      "% done is 74\n",
      "% done is 76\n",
      "% done is 78\n",
      "% done is 80\n",
      "% done is 82\n",
      "% done is 84\n",
      "% done is 86\n",
      "% done is 88\n",
      "% done is 90\n",
      "% done is 92\n",
      "% done is 94\n",
      "% done is 96\n",
      "% done is 98\n"
     ]
    }
   ]
  },
  {
   "cell_type": "code",
   "metadata": {
    "id": "c3uYp-8xmGzZ",
    "colab_type": "code",
    "outputId": "6b0d39c2-0dce-415e-c164-367a02cd0476",
    "colab": {
     "base_uri": "https://localhost:8080/",
     "height": 296
    }
   },
   "source": [
    "\n",
    "rangeOfKneighbour = range(1,50)\n",
    "plt.plot(rangeOfKneighbour, score)\n",
    "plt.xlabel('K Value')\n",
    "plt.ylabel('Accuracy Cross-Validation')\n"
   ],
   "execution_count": 32,
   "outputs": [
    {
     "data": {
      "text/plain": "Text(0, 0.5, 'Accuracy Cross-Validation')"
     },
     "execution_count": 32,
     "metadata": {},
     "output_type": "execute_result"
    },
    {
     "data": {
      "text/plain": "<Figure size 432x288 with 1 Axes>",
      "image/png": "[encoded data removed]"
     },
     "metadata": {
      "needs_background": "light"
     },
     "output_type": "display_data"
    }
   ]
  },
  {
   "cell_type": "code",
   "metadata": {
    "id": "l49O29XU76jl",
    "colab_type": "code",
    "colab": {}
   },
   "source": [
    "classifier = KNeighborsClassifier(n_neighbors=20,)\n",
    "classifier.fit(X_train, y_train.ravel())\n",
    "y_pred = classifier.predict(X_test)"
   ],
   "execution_count": 33,
   "outputs": []
  },
  {
   "cell_type": "code",
   "metadata": {
    "id": "ig3U7kKY79QN",
    "colab_type": "code",
    "outputId": "5174938f-c2c6-4274-a294-d2b262aeced3",
    "colab": {
     "base_uri": "https://localhost:8080/",
     "height": 357
    }
   },
   "source": [
    "from sklearn.metrics import classification_report, confusion_matrix\n",
    "print(confusion_matrix(y_test, y_pred))\n",
    "print(\"\")\n",
    "print(classification_report(y_test, y_pred))"
   ],
   "execution_count": 34,
   "outputs": [
    {
     "name": "stdout",
     "output_type": "stream",
     "text": [
      "[[ 286  294   14    9    0    0]\n",
      " [ 142 1267  163  230    0    0]\n",
      " [   6  378  311  443   15    2]\n",
      " [   2  175  190 2117  101    9]\n",
      " [   0    0    1  208  353   17]\n",
      " [   0    0    0    8   55   54]]\n",
      "\n",
      "              precision    recall  f1-score   support\n",
      "\n",
      "           0       0.66      0.47      0.55       603\n",
      "           1       0.60      0.70      0.65      1802\n",
      "           2       0.46      0.27      0.34      1155\n",
      "           3       0.70      0.82      0.75      2594\n",
      "           4       0.67      0.61      0.64       579\n",
      "           5       0.66      0.46      0.54       117\n",
      "\n",
      "    accuracy                           0.64      6850\n",
      "   macro avg       0.62      0.56      0.58      6850\n",
      "weighted avg       0.63      0.64      0.63      6850\n",
      "\n"
     ]
    }
   ]
  },
  {
   "cell_type": "code",
   "metadata": {
    "id": "wFgpK6lBl5A3",
    "colab_type": "code",
    "colab": {
     "base_uri": "https://localhost:8080/",
     "height": 312
    },
    "outputId": "18b59aef-7471-480e-db2d-279c39d94f45"
   },
   "source": [
    "from sklearn.metrics import plot_confusion_matrix\n",
    "\n",
    "disp = plot_confusion_matrix(classifier, X_test, y_test,\n",
    "                                 cmap=plt.cm.Blues,\n",
    "                                 normalize='pred')\n",
    "disp.ax_.set_title(\"Normalised Confusion Matrix for KNN\")\n"
   ],
   "execution_count": 37,
   "outputs": [
    {
     "data": {
      "text/plain": "Text(0.5, 1.0, 'Normalised Confusion Matrix for KNN')"
     },
     "execution_count": 37,
     "metadata": {},
     "output_type": "execute_result"
    },
    {
     "data": {
      "text/plain": "<Figure size 432x288 with 2 Axes>",
      "image/png": "[encoded data removed]"
     },
     "metadata": {
      "needs_background": "light"
     },
     "output_type": "display_data"
    }
   ]
  },
  {
   "cell_type": "markdown",
   "metadata": {
    "id": "z4L8IcUTk8b-",
    "colab_type": "text"
   },
   "source": [
    "<h1> Decision Trees</h1>"
   ]
  },
  {
   "cell_type": "code",
   "metadata": {
    "id": "_mSPQ9v1X1oV",
    "colab_type": "code",
    "colab": {}
   },
   "source": [
    "from sklearn import tree\n",
    "from sklearn.tree import plot_tree\n",
    "from sklearn.metrics import accuracy_score\n"
   ],
   "execution_count": null,
   "outputs": []
  },
  {
   "cell_type": "markdown",
   "metadata": {
    "id": "1kYlg13AswhI",
    "colab_type": "text"
   },
   "source": [
    "Hyperparameter Tuning"
   ]
  },
  {
   "cell_type": "code",
   "metadata": {
    "id": "o969NkZ7gwwC",
    "colab_type": "code",
    "colab": {}
   },
   "source": [
    "#X_train, X_test, y_train, y_test = train_test_split(principalComponents, Y_DF, test_size=0.20, random_state=0)\n",
    "#X_train, X_val, y_train, y_val = train_test_split(principalComponents, Y_DF, test_size=0.0001, random_state=0)"
   ],
   "execution_count": null,
   "outputs": []
  },
  {
   "cell_type": "code",
   "metadata": {
    "id": "yhbe32lo8e7L",
    "colab_type": "code",
    "colab": {
     "base_uri": "https://localhost:8080/",
     "height": 170
    },
    "outputId": "5d6a2089-ad12-4b82-a103-76b43e3c1d73"
   },
   "source": [
    "\n",
    "clfs_gini = []\n",
    "clfs_entropy = []\n",
    "import numpy as np\n",
    "count = 0 \n",
    "ccp_alphas = np.arange(0.001, 0.01, 0.001)\n",
    "for ccp_alpha in ccp_alphas:\n",
    "  clf_g = tree.DecisionTreeClassifier(random_state=0,ccp_alpha=ccp_alpha,criterion='gini' )\n",
    "  clf_g.fit(X_train, y_train)\n",
    "  clfs_gini.append(clf_g)\n",
    "\n",
    "  clf_e = tree.DecisionTreeClassifier(random_state=0,ccp_alpha=ccp_alpha,criterion='entropy' )\n",
    "  clf_e.fit(X_train, y_train)\n",
    "  clfs_entropy.append(clf_e)\n",
    "  count = count + 1\n",
    "  print(f\" % done { int( ((count)/len(ccp_alphas)) *100)}%\")\n",
    "  \n",
    "#print(\"Number of nodes in the last tree is: {} with ccp_alpha: {}\".format(\n",
    "#      clfs[-1].tree_.node_count, ccp_alphas[-1]))\n",
    "\n",
    "\n"
   ],
   "execution_count": null,
   "outputs": []
  },
  {
   "cell_type": "code",
   "metadata": {
    "id": "U5Y5k5HpDJOD",
    "colab_type": "code",
    "colab": {
     "base_uri": "https://localhost:8080/",
     "height": 295
    },
    "outputId": "b63c184c-5bf5-436c-9c17-b2c7d55f6648"
   },
   "source": [
    "\n",
    "train_scores_g = [clf.score(X_train, y_train) for clf in clfs_gini]\n",
    "test_scores_g = [clf.score(X_test, y_test) for clf in clfs_gini]\n",
    "\n",
    "\n",
    "train_scores_e = [clf.score(X_train, y_train) for clf in clfs_entropy]\n",
    "test_scores_e = [clf.score(X_test, y_test) for clf in clfs_entropy]\n",
    "\n",
    "fig, ax = plt.subplots()\n",
    "ax.set_xlabel(\"alpha\")\n",
    "ax.set_ylabel(\"accuracy\")\n",
    "ax.set_title(\"Accuracy vs alpha for testing data Gini Vs Entropy\")\n",
    "ax.plot(ccp_alphas, test_scores_e, marker='o', label=\"test_e\",  drawstyle=\"steps-post\")\n",
    "ax.plot(ccp_alphas, test_scores_g, marker='o', label=\"test_g\",\n",
    "        drawstyle=\"steps-post\")\n",
    "ax.legend()\n",
    "plt.show()\n",
    "\n"
   ],
   "execution_count": null,
   "outputs": []
  },
  {
   "cell_type": "markdown",
   "metadata": {
    "id": "8cNeUtJ2szZ6",
    "colab_type": "text"
   },
   "source": [
    "As we can see from the graph the Accuracy for Decision tree using Entropy is sligtly higer than using gini. \n",
    "And the ideal parameter can be choosed as 0.001 or 0.002"
   ]
  },
  {
   "cell_type": "code",
   "metadata": {
    "id": "3fbGK1PQT0XC",
    "colab_type": "code",
    "colab": {
     "base_uri": "https://localhost:8080/",
     "height": 51
    },
    "outputId": "be6f0ac7-e650-45e8-c6cc-d4df3f0954e1"
   },
   "source": [
    "clf_DT = tree.DecisionTreeClassifier(random_state=0,ccp_alpha=0.001,criterion='entropy' )\n",
    "clf_DT.fit(X_train, y_train)\n",
    "\n",
    "y_predDT = clf_DT.predict(X_test)\n",
    "print('Accuracy Score on train data: ', accuracy_score(y_true=y_train, y_pred= clf_DT.predict(X_train)))\n",
    "print('Accuracy Score on the test data: ', accuracy_score(y_true=y_test, y_pred= y_predDT))"
   ],
   "execution_count": null,
   "outputs": []
  },
  {
   "cell_type": "code",
   "metadata": {
    "id": "jBNJkoeo2rPS",
    "colab_type": "code",
    "colab": {
     "base_uri": "https://localhost:8080/",
     "height": 357
    },
    "outputId": "cd727262-3c62-4b54-9d27-a7f3c58a6571"
   },
   "source": [
    "print(confusion_matrix(y_test, y_predDT))\n",
    "print(\"\")\n",
    "print(classification_report(y_test, y_predDT))"
   ],
   "execution_count": null,
   "outputs": []
  },
  {
   "cell_type": "code",
   "metadata": {
    "id": "izOUeSI8n5bP",
    "colab_type": "code",
    "colab": {
     "base_uri": "https://localhost:8080/",
     "height": 312
    },
    "outputId": "1785d099-b9cf-47dc-b0cb-1d77773b7495"
   },
   "source": [
    "from sklearn.metrics import plot_confusion_matrix\n",
    "\n",
    "disp = plot_confusion_matrix(clf_DT, X_test, y_test,\n",
    "                                 cmap=plt.cm.Blues,\n",
    "                                 normalize=normalize)\n",
    "disp.ax_.set_title(\"Normalised Confusion Matrix for Decision Tree\")"
   ],
   "execution_count": null,
   "outputs": []
  },
  {
   "cell_type": "code",
   "metadata": {
    "id": "6RSVAVjVBzbT",
    "colab_type": "code",
    "colab": {}
   },
   "source": [
    "from sklearn.ensemble import RandomForestClassifier\n"
   ],
   "execution_count": null,
   "outputs": []
  },
  {
   "cell_type": "code",
   "metadata": {
    "id": "bBaOiz0FCK_M",
    "colab_type": "code",
    "colab": {}
   },
   "source": [
    "model = RandomForestClassifier(n_estimators=100,\n",
    "                               criterion='entropy', \n",
    "                               random_state=0, \n",
    "                               max_features = 'sqrt',\n",
    "                               n_jobs=-1, verbose = 1)"
   ],
   "execution_count": null,
   "outputs": []
  },
  {
   "cell_type": "code",
   "metadata": {
    "id": "XrrdpzEpCbUb",
    "colab_type": "code",
    "colab": {
     "base_uri": "https://localhost:8080/",
     "height": 173
    },
    "outputId": "6bc5ad4a-dd67-4e6a-ac66-d31b4533b02a"
   },
   "source": [
    "model.fit(X_train, y_train)\n",
    "y_predRF = model.predict(X_test)"
   ],
   "execution_count": null,
   "outputs": []
  },
  {
   "cell_type": "code",
   "metadata": {
    "id": "MMUvPtkYCWY4",
    "colab_type": "code",
    "colab": {
     "base_uri": "https://localhost:8080/",
     "height": 357
    },
    "outputId": "ac8f2c1a-2c4c-44d8-8dde-4048d337353f"
   },
   "source": [
    "print(confusion_matrix(y_test, y_predRF))\n",
    "print(\"\")\n",
    "print(classification_report(y_test, y_predRF))"
   ],
   "execution_count": null,
   "outputs": []
  },
  {
   "cell_type": "code",
   "metadata": {
    "id": "GaOpv-2PHLgj",
    "colab_type": "code",
    "colab": {
     "base_uri": "https://localhost:8080/",
     "height": 1000
    },
    "outputId": "d3c45412-ea57-4bd7-977a-b3fdf14f35ca"
   },
   "source": [
    "from sklearn.model_selection import StratifiedKFold\n",
    "from sklearn.model_selection import cross_val_score\n",
    "models = []\n",
    "models.append(('KNN', KNeighborsClassifier(n_neighbors=20,) ))\n",
    "models.append(('Decision Tree', DecisionTreeClassifier(random_state=0,ccp_alpha=0.001,criterion='entropy') ))\n",
    "models.append(('Reandom Forest', RandomForestClassifier(n_estimators=100,\n",
    "                               criterion='entropy', \n",
    "                               random_state=0, \n",
    "                               max_features = 'sqrt',\n",
    "                               n_jobs=-1, verbose = 1) ))\n",
    "\n",
    "results = []\n",
    "names = []\n",
    "for name, model in models:\n",
    "\tkfold = StratifiedKFold(n_splits=10)\n",
    "\tcv_results = cross_val_score(model, X_train, y_train.ravel(), cv=kfold, scoring='accuracy')\n",
    "\tresults.append(cv_results)\n",
    "\tnames.append(name)\n",
    "\tprint('%s: %f (%f)' % (name, cv_results.mean(), cv_results.std()))\n"
   ],
   "execution_count": null,
   "outputs": []
  },
  {
   "cell_type": "code",
   "metadata": {
    "id": "cfpe4Qn0XLdH",
    "colab_type": "code",
    "colab": {
     "base_uri": "https://localhost:8080/",
     "height": 281
    },
    "outputId": "ff3a6a36-f4f6-47a4-c437-bc2f782ecd02"
   },
   "source": [
    "from matplotlib import pyplot\n",
    "# Compare Algorithms\n",
    "pyplot.boxplot(results, labels=names)\n",
    "pyplot.title('10-fold cross-validation on Beijing Data Set')\n",
    "pyplot.show()"
   ],
   "execution_count": null,
   "outputs": []
  }
 ]
}